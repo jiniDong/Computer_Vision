{
 "cells": [
  {
   "cell_type": "code",
   "execution_count": 1,
   "metadata": {
    "pycharm": {
     "is_executing": true
    }
   },
   "outputs": [],
   "source": [
    "from PIL import Image\n",
    "import numpy as np\n",
    "import math"
   ]
  },
  {
   "cell_type": "markdown",
   "metadata": {},
   "source": []
  },
  {
   "cell_type": "code",
   "execution_count": 2,
   "metadata": {},
   "outputs": [],
   "source": [
    "def boxfilter(n):\n",
    "    if n <= 0 or n % 2 == 0:  # n이 조건에 맞지 않을 경우 Assertion Error를 발생시킵니다.\n",
    "        raise AssertionError('Dimension must be odd')\n",
    "\n",
    "    # 각 픽셀에 들어갈 값을 계산한다.\n",
    "    # 모두 합해서 1이어야 하고, 모든 픽셀의 가중치가 같아야 한다.\n",
    "    box_entry = 1.0 / n ** 2\n",
    "    filter = np.full((n, n), box_entry)\n",
    "    return filter"
   ]
  },
  {
   "cell_type": "markdown",
   "metadata": {},
   "source": []
  },
  {
   "cell_type": "code",
   "execution_count": 3,
   "metadata": {},
   "outputs": [
    {
     "name": "stdout",
     "output_type": "stream",
     "text": [
      "[[0.11111111 0.11111111 0.11111111]\n",
      " [0.11111111 0.11111111 0.11111111]\n",
      " [0.11111111 0.11111111 0.11111111]]\n",
      "[[0.02040816 0.02040816 0.02040816 0.02040816 0.02040816 0.02040816\n",
      "  0.02040816]\n",
      " [0.02040816 0.02040816 0.02040816 0.02040816 0.02040816 0.02040816\n",
      "  0.02040816]\n",
      " [0.02040816 0.02040816 0.02040816 0.02040816 0.02040816 0.02040816\n",
      "  0.02040816]\n",
      " [0.02040816 0.02040816 0.02040816 0.02040816 0.02040816 0.02040816\n",
      "  0.02040816]\n",
      " [0.02040816 0.02040816 0.02040816 0.02040816 0.02040816 0.02040816\n",
      "  0.02040816]\n",
      " [0.02040816 0.02040816 0.02040816 0.02040816 0.02040816 0.02040816\n",
      "  0.02040816]\n",
      " [0.02040816 0.02040816 0.02040816 0.02040816 0.02040816 0.02040816\n",
      "  0.02040816]]\n"
     ]
    }
   ],
   "source": [
    "print(boxfilter(3))\n",
    "# print(boxfilter(4))\n",
    "print(boxfilter(7))"
   ]
  },
  {
   "cell_type": "markdown",
   "metadata": {},
   "source": []
  },
  {
   "cell_type": "code",
   "execution_count": null,
   "outputs": [],
   "source": [],
   "metadata": {
    "collapsed": false
   }
  },
  {
   "cell_type": "code",
   "execution_count": 4,
   "metadata": {},
   "outputs": [],
   "source": [
    "def gauss1d(sigma):\n",
    "    width: int = int(math.ceil(6 * sigma))  # 6*sigma의 다음 정수로 width를 설정\n",
    "    if width % 2 == 0:  # 다음 정수가 짝수라면 +1 하여 홀수로 변경\n",
    "        width += 1\n",
    "\n",
    "    center = math.floor(width / 2)  # 가운데 index를 획득\n",
    "    gaussian = np.zeros((1, width)).flatten()  # 반환할 1D Numpy Array 생성\n",
    "    for i in range(width):\n",
    "        gaussian[i] = i - center  # Hint:를 토대로 x값을 입력\n",
    "    for i in range(width):\n",
    "        gaussian[i] = math.exp(-gaussian[i] ** 2 / (2 * sigma ** 2))  # x값에 따라 gaussian값 획득 및 입력\n",
    "\n",
    "    # 아래는 normalize, 전체 합으로 각 엔트리를 나눈다.\n",
    "    kernal_sum = np.sum(gaussian)\n",
    "    for i in range(width):\n",
    "        gaussian[i] /= kernal_sum\n",
    "    return gaussian"
   ]
  },
  {
   "cell_type": "markdown",
   "metadata": {},
   "source": []
  },
  {
   "cell_type": "code",
   "execution_count": 5,
   "metadata": {},
   "outputs": [
    {
     "name": "stdout",
     "output_type": "stream",
     "text": [
      "sigma = 0.3\n",
      "[0.00383626 0.99232748 0.00383626]\n",
      "sigma = 0.5\n",
      "[0.10650698 0.78698604 0.10650698]\n",
      "sigma = 1.0\n",
      "[0.00443305 0.05400558 0.24203623 0.39905028 0.24203623 0.05400558\n",
      " 0.00443305]\n",
      "sigma = 2.0\n",
      "[0.0022182  0.00877313 0.02702316 0.06482519 0.12110939 0.17621312\n",
      " 0.19967563 0.17621312 0.12110939 0.06482519 0.02702316 0.00877313\n",
      " 0.0022182 ]\n"
     ]
    }
   ],
   "source": [
    "print(\"sigma = 0.3\\n{}\".format(gauss1d(0.3)))\n",
    "print(\"sigma = 0.5\\n{}\".format(gauss1d(0.5)))\n",
    "print(\"sigma = 1.0\\n{}\".format(gauss1d(1.0)))\n",
    "print(\"sigma = 2.0\\n{}\".format(gauss1d(2.0)))"
   ]
  },
  {
   "cell_type": "markdown",
   "metadata": {},
   "source": []
  },
  {
   "cell_type": "code",
   "execution_count": 6,
   "metadata": {},
   "outputs": [],
   "source": [
    "def gauss2d(sigma):\n",
    "    return np.outer(gauss1d(sigma), gauss1d(sigma))\n",
    "# outer product로 2d 가우시안 필터를 구한다."
   ]
  },
  {
   "cell_type": "markdown",
   "metadata": {},
   "source": []
  },
  {
   "cell_type": "code",
   "execution_count": 7,
   "metadata": {},
   "outputs": [
    {
     "name": "stdout",
     "output_type": "stream",
     "text": [
      "gauss2d(0.5) = \n",
      "[[0.01134374 0.08381951 0.01134374]\n",
      " [0.08381951 0.61934703 0.08381951]\n",
      " [0.01134374 0.08381951 0.01134374]]\n",
      "gauss2d(1.0) = \n",
      "[[1.96519161e-05 2.39409349e-04 1.07295826e-03 1.76900911e-03\n",
      "  1.07295826e-03 2.39409349e-04 1.96519161e-05]\n",
      " [2.39409349e-04 2.91660295e-03 1.30713076e-02 2.15509428e-02\n",
      "  1.30713076e-02 2.91660295e-03 2.39409349e-04]\n",
      " [1.07295826e-03 1.30713076e-02 5.85815363e-02 9.65846250e-02\n",
      "  5.85815363e-02 1.30713076e-02 1.07295826e-03]\n",
      " [1.76900911e-03 2.15509428e-02 9.65846250e-02 1.59241126e-01\n",
      "  9.65846250e-02 2.15509428e-02 1.76900911e-03]\n",
      " [1.07295826e-03 1.30713076e-02 5.85815363e-02 9.65846250e-02\n",
      "  5.85815363e-02 1.30713076e-02 1.07295826e-03]\n",
      " [2.39409349e-04 2.91660295e-03 1.30713076e-02 2.15509428e-02\n",
      "  1.30713076e-02 2.91660295e-03 2.39409349e-04]\n",
      " [1.96519161e-05 2.39409349e-04 1.07295826e-03 1.76900911e-03\n",
      "  1.07295826e-03 2.39409349e-04 1.96519161e-05]]\n"
     ]
    }
   ],
   "source": [
    "print(\"gauss2d(0.5) = \\n{}\".format(gauss2d(0.5)))\n",
    "print(\"gauss2d(1.0) = \\n{}\".format(gauss2d(1.0)))"
   ]
  },
  {
   "cell_type": "markdown",
   "metadata": {},
   "source": []
  },
  {
   "cell_type": "code",
   "execution_count": 8,
   "metadata": {},
   "outputs": [],
   "source": [
    "def convolove2d(array, filter):\n",
    "    padding_width = int(len(filter) / 2)  # filter에 따른 padding 크기\n",
    "    zero_padding = np.zeros((np.shape(array)[0] + padding_width * 2,\n",
    "                             np.shape(array)[1] + padding_width * 2))\n",
    "    # padding한 크기에 맞게 새로운 np.array를 생성\n",
    "\n",
    "    # convolution연산을 위해서 filter를 축의 방향에 대해서 뒤집는다.\n",
    "    flipped_filter = np.flip(filter, axis=0)\n",
    "    flipped_filter = np.flip(flipped_filter, axis=1)\n",
    "    # 모든 픽셀에 대해서 paading을 제외한 부분에 array를 집어넣어 준다.\n",
    "    for i in range(padding_width, np.shape(zero_padding)[0] - padding_width):\n",
    "        for j in range(padding_width, np.shape(zero_padding)[1] - padding_width):\n",
    "            zero_padding[i][j] = array[i - padding_width][j - padding_width]\n",
    "\n",
    "    # padding된 이미지의 각 픽셀을 순회하면서 각 픽셀에 컨벌루젼한 값을 입력한다.\n",
    "    for i in range(padding_width, np.shape(zero_padding)[0] - padding_width):\n",
    "        for j in range(padding_width, np.shape(zero_padding)[1] - padding_width):\n",
    "            subpart = zero_padding[i - padding_width:i + padding_width + 1,\n",
    "                      j - padding_width:j + padding_width + 1]\n",
    "            zero_padding[i][j] = np.sum(subpart * flipped_filter)\n",
    "    # 컨벌루젼한 값을 리턴\n",
    "    return zero_padding[padding_width:-padding_width, padding_width:-padding_width]"
   ]
  },
  {
   "cell_type": "markdown",
   "metadata": {},
   "source": []
  },
  {
   "cell_type": "code",
   "execution_count": 9,
   "metadata": {},
   "outputs": [],
   "source": [
    "def gaussconvolve2d(array, sigma):\n",
    "    return convolove2d(array, gauss2d(sigma))"
   ]
  },
  {
   "cell_type": "markdown",
   "metadata": {},
   "source": []
  },
  {
   "cell_type": "code",
   "execution_count": 15,
   "metadata": {},
   "outputs": [],
   "source": [
    "# 파일 불러오기 및 가우시안 효과 적용\n",
    "dog_img = Image.open('hw2_image/2b_dog.bmp')\n",
    "dog_img_grey = dog_img.convert('L')\n",
    "dog_img_array = np.asarray(dog_img_grey)\n",
    "blurred_dog_array = np.asarray(gaussconvolve2d(dog_img_array, 3.0))"
   ]
  },
  {
   "cell_type": "markdown",
   "metadata": {},
   "source": []
  },
  {
   "cell_type": "code",
   "execution_count": 17,
   "metadata": {},
   "outputs": [],
   "source": [
    "# 두 개의 원본과 하나의 결과물 이미지 확인\n",
    "dog_img.show()\n",
    "dog_img_grey.show()\n",
    "Image.fromarray(blurred_dog_array).show()"
   ]
  },
  {
   "cell_type": "markdown",
   "metadata": {},
   "source": []
  },
  {
   "cell_type": "code",
   "execution_count": 12,
   "metadata": {},
   "outputs": [],
   "source": [
    "# 사용할 이미지를 불러오기\n",
    "dog_img_img = Image.open('hw2_image/2b_dog.bmp')\n",
    "cat_img = Image.open('hw2_image/2a_cat.bmp')\n",
    "\n",
    "# 이미지를 배열로 변환\n",
    "dog_img_img_array = np.asarray(dog_img_img)\n",
    "cat_img_array = np.asarray(cat_img)\n",
    "\n",
    "# 변환된 배열의 shape를 가져온다.\n",
    "dog_img_height, dog_img_width, rgb = np.shape(dog_img_img_array)\n",
    "\n",
    "# 각 픽셀의 RGB값을 가져온다.\n",
    "dog_img_img_array_r = dog_img_img_array[:, :, 0].reshape(dog_img_height, dog_img_width)\n",
    "dog_img_img_array_g = dog_img_img_array[:, :, 1].reshape(dog_img_height, dog_img_width)\n",
    "dog_img_img_array_b = dog_img_img_array[:, :, 2].reshape(dog_img_height, dog_img_width)\n",
    "\n",
    "# 각 RGB배열에 가우시안 컨벌루젼을 진행한다.\n",
    "blur_sigma = 5.0\n",
    "dog_img_img_array_r_blurred = gaussconvolve2d(dog_img_img_array_r, blur_sigma)\n",
    "dog_img_img_array_g_blurred = gaussconvolve2d(dog_img_img_array_g, blur_sigma)\n",
    "dog_img_img_array_b_blurred = gaussconvolve2d(dog_img_img_array_b, blur_sigma)\n",
    "\n",
    "# 결과를 저장할 배열을 만든다.\n",
    "dog_img_img_blurred = np.zeros((dog_img_height, dog_img_width, rgb))\n",
    "\n",
    "# 각 픽셀의 RGB값을 병합한다.\n",
    "for row in range(dog_img_height):\n",
    "    for pixel in range(dog_img_width):\n",
    "        dog_img_img_blurred[row][pixel] = np.array([dog_img_img_array_r_blurred[row][pixel],\n",
    "                                                    dog_img_img_array_g_blurred[row][pixel],\n",
    "                                                    dog_img_img_array_b_blurred[row][pixel]])\n",
    "\n",
    "# 병합된 이미지를 보여준다.\n",
    "Image.fromarray(dog_img_img_blurred.astype(np.uint8)).show()"
   ]
  },
  {
   "cell_type": "markdown",
   "source": [],
   "metadata": {
    "collapsed": false
   }
  },
  {
   "cell_type": "code",
   "execution_count": 13,
   "metadata": {},
   "outputs": [],
   "source": [
    "# 2.\n",
    "\n",
    "# 변환된 배열의 shape를 가져온다.\n",
    "cat_height, cat_width, rgb = np.shape(cat_img_array)\n",
    "\n",
    "# 각 픽셀의 RGB값을 가져온다.\n",
    "cat_img_array_r = cat_img_array[:, :, 0].reshape(cat_height, cat_width)\n",
    "cat_img_array_g = cat_img_array[:, :, 1].reshape(cat_height, cat_width)\n",
    "cat_img_array_b = cat_img_array[:, :, 2].reshape(cat_height, cat_width)\n",
    "\n",
    "# 각 RGB에 대해서 가우시안 효과 적용\n",
    "sharp_sigma = 5.0\n",
    "cat_img_array_r_blurred = gaussconvolve2d(cat_img_array_r, sharp_sigma)\n",
    "cat_img_array_g_blurred = gaussconvolve2d(cat_img_array_g, sharp_sigma)\n",
    "cat_img_array_b_blurred = gaussconvolve2d(cat_img_array_b, sharp_sigma)\n",
    "\n",
    "# 결과물을 저장할 배열을 만든다.\n",
    "cat_img_sharpened = np.zeros((dog_img_height, dog_img_width, rgb))\n",
    "\n",
    "# 각 픽셀에 원본에서 가우시안효과를 뺀 값을 저장한다.\n",
    "for row in range(cat_height):\n",
    "    for pixel in range(cat_width):\n",
    "        cat_img_sharpened[row][pixel] = np.array([cat_img_array_r[row][pixel]\n",
    "                                                         - cat_img_array_r_blurred[row][pixel],\n",
    "                                                         cat_img_array_g[row][pixel]\n",
    "                                                         - cat_img_array_g_blurred[row][pixel],\n",
    "                                                         cat_img_array_b[row][pixel]\n",
    "                                                         - cat_img_array_b_blurred[row][pixel]])\n",
    "\n",
    "# 고주파 이미지를 보여주기 위한 보정값 128을 각 픽셀에 더한 후 이미지 보여주기\n",
    "cat_img_show = cat_img_sharpened + 128\n",
    "Image.fromarray(cat_img_show.astype(np.uint8)).show()"
   ]
  },
  {
   "cell_type": "markdown",
   "source": [],
   "metadata": {
    "collapsed": false
   }
  },
  {
   "cell_type": "code",
   "execution_count": 14,
   "metadata": {},
   "outputs": [],
   "source": [
    "# 3\n",
    "\n",
    "# 두 개의 이미지를 더한다. 픽셀 값의 오버플로를 막기 위해 2로 나눈다.\n",
    "hybrid = (cat_img_sharpened + dog_img_img_blurred)/2\n",
    "np.where(hybrid > 255, 255, hybrid)\n",
    "np.where(hybrid < 0, 0, hybrid)\n",
    "Image.fromarray(hybrid.astype(np.uint8)).show()"
   ]
  },
  {
   "cell_type": "markdown",
   "metadata": {},
   "source": []
  }
 ],
 "metadata": {
  "kernelspec": {
   "display_name": "Python 3 (ipykernel)",
   "language": "python",
   "name": "python3"
  },
  "language_info": {
   "codemirror_mode": {
    "name": "ipython",
    "version": 3
   },
   "file_extension": ".py",
   "mimetype": "text/x-python",
   "name": "python",
   "nbconvert_exporter": "python",
   "pygments_lexer": "ipython3",
   "version": "3.11.2"
  }
 },
 "nbformat": 4,
 "nbformat_minor": 1
}
